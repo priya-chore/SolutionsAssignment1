{
 "cells": [
  {
   "cell_type": "markdown",
   "id": "bb271604",
   "metadata": {},
   "source": [
    "## ** What is 7 to the power of 4?**"
   ]
  },
  {
   "cell_type": "code",
   "execution_count": 1,
   "id": "8278e646",
   "metadata": {},
   "outputs": [
    {
     "data": {
      "text/plain": [
       "2401"
      ]
     },
     "execution_count": 1,
     "metadata": {},
     "output_type": "execute_result"
    }
   ],
   "source": [
    "7**4"
   ]
  },
  {
   "cell_type": "markdown",
   "id": "291b36db",
   "metadata": {},
   "source": [
    "## ** Split this string:**\n",
    "\n",
    "s = \"Hi there Yogesh!\"\n",
    "*into a list. *"
   ]
  },
  {
   "cell_type": "code",
   "execution_count": 2,
   "id": "a70168dc",
   "metadata": {},
   "outputs": [],
   "source": [
    "s='Hi there Yogesh!'"
   ]
  },
  {
   "cell_type": "code",
   "execution_count": 4,
   "id": "fee415e0",
   "metadata": {},
   "outputs": [
    {
     "data": {
      "text/plain": [
       "['Hi', 'there', 'Yogesh!']"
      ]
     },
     "execution_count": 4,
     "metadata": {},
     "output_type": "execute_result"
    }
   ],
   "source": [
    "s.split(' ')"
   ]
  },
  {
   "cell_type": "markdown",
   "id": "35d878fd",
   "metadata": {},
   "source": [
    "## ** Given the variables:**\n",
    "\n",
    "planet = \"Earth\"\n",
    "diameter = 12742\n",
    "** Use .format() to print the following string: **\n",
    "\n",
    "The diameter of Earth is 12742 kilometers."
   ]
  },
  {
   "cell_type": "code",
   "execution_count": 6,
   "id": "58fd97a6",
   "metadata": {},
   "outputs": [],
   "source": [
    "planet='Earth'\n",
    "diameter=12742"
   ]
  },
  {
   "cell_type": "code",
   "execution_count": 8,
   "id": "6c31f00b",
   "metadata": {},
   "outputs": [
    {
     "data": {
      "text/plain": [
       "'The diameter of Earth is 12742 kilometers'"
      ]
     },
     "execution_count": 8,
     "metadata": {},
     "output_type": "execute_result"
    }
   ],
   "source": [
    "\"The diameter of {} is {} kilometers\".format(planet,diameter)"
   ]
  },
  {
   "cell_type": "markdown",
   "id": "eba9bca2",
   "metadata": {},
   "source": [
    "## ** Given this nested list, use indexing to grab the word \"hello\" **"
   ]
  },
  {
   "cell_type": "code",
   "execution_count": 9,
   "id": "d08fe190",
   "metadata": {},
   "outputs": [],
   "source": [
    "lst = [1,2,[3,4],[5,[100,200,['hello']],23,11],1,7]"
   ]
  },
  {
   "cell_type": "code",
   "execution_count": 10,
   "id": "32e48b12",
   "metadata": {},
   "outputs": [
    {
     "data": {
      "text/plain": [
       "'hello'"
      ]
     },
     "execution_count": 10,
     "metadata": {},
     "output_type": "execute_result"
    }
   ],
   "source": [
    "lst[3][1][2][0]"
   ]
  },
  {
   "cell_type": "markdown",
   "id": "0fdd9fcd",
   "metadata": {},
   "source": [
    "## ** Given this nested dictionary grab the word \"hello\". Be prepared, this will be annoying/tricky **"
   ]
  },
  {
   "cell_type": "code",
   "execution_count": 11,
   "id": "5984b823",
   "metadata": {},
   "outputs": [],
   "source": [
    "d = {'k1':[1,2,3,{'tricky':['oh','man','inception',{'target':[1,2,3,'hello']}]}]}"
   ]
  },
  {
   "cell_type": "code",
   "execution_count": 15,
   "id": "d838c3d3",
   "metadata": {},
   "outputs": [
    {
     "data": {
      "text/plain": [
       "'hello'"
      ]
     },
     "execution_count": 15,
     "metadata": {},
     "output_type": "execute_result"
    }
   ],
   "source": [
    "d['k1'][3]['tricky'][3]['target'][3]"
   ]
  },
  {
   "cell_type": "markdown",
   "id": "057eceda",
   "metadata": {},
   "source": [
    "## ** What is the main difference between a tuple and a list? **"
   ]
  },
  {
   "cell_type": "code",
   "execution_count": 16,
   "id": "c1666664",
   "metadata": {},
   "outputs": [],
   "source": [
    "# tuple is immutable and list is mutable."
   ]
  },
  {
   "cell_type": "markdown",
   "id": "8daca505",
   "metadata": {},
   "source": [
    "## ** Create a function that grabs the email website domain from a string in the form: **\n",
    "\n",
    "user@domain.com\n",
    "So for example, passing \"user@domain.com\" would return: domain.com"
   ]
  },
  {
   "cell_type": "code",
   "execution_count": 30,
   "id": "9f3b0935",
   "metadata": {},
   "outputs": [],
   "source": [
    "def fun1():\n",
    "    e1='priyachore14@gmail.com'\n",
    "    s1=e1.split('@')\n",
    "    return s1[1]"
   ]
  },
  {
   "cell_type": "code",
   "execution_count": 31,
   "id": "3ebed110",
   "metadata": {},
   "outputs": [
    {
     "data": {
      "text/plain": [
       "'gmail.com'"
      ]
     },
     "execution_count": 31,
     "metadata": {},
     "output_type": "execute_result"
    }
   ],
   "source": [
    "fun1()"
   ]
  },
  {
   "cell_type": "markdown",
   "id": "f16d30e5",
   "metadata": {},
   "source": [
    "## ** Create a basic function that returns True if the word 'dog' is contained in the input string. Don't worry about edge cases like a punctuation being attached to the word dog, but do account for capitalization. **"
   ]
  },
  {
   "cell_type": "code",
   "execution_count": 135,
   "id": "e7e84b77",
   "metadata": {},
   "outputs": [],
   "source": [
    "def findDog(s1):\n",
    "    n1=s1.split()\n",
    "    for i in n1:\n",
    "        if i=='dog'or i=='DOG'or i=='Dog':\n",
    "            print('True')"
   ]
  },
  {
   "cell_type": "code",
   "execution_count": 136,
   "id": "b7b7f6d5",
   "metadata": {},
   "outputs": [
    {
     "name": "stdout",
     "output_type": "stream",
     "text": [
      "True\n"
     ]
    }
   ],
   "source": [
    "findDog('Is there a dog here?')"
   ]
  },
  {
   "cell_type": "code",
   "execution_count": 137,
   "id": "7c662831",
   "metadata": {},
   "outputs": [],
   "source": [
    "def findDog1(s1):\n",
    "    n1=s1.split()\n",
    "    return 'dog'in n1"
   ]
  },
  {
   "cell_type": "code",
   "execution_count": 138,
   "id": "950c81e0",
   "metadata": {},
   "outputs": [
    {
     "data": {
      "text/plain": [
       "True"
      ]
     },
     "execution_count": 138,
     "metadata": {},
     "output_type": "execute_result"
    }
   ],
   "source": [
    "findDog1('Is there a dog here?')"
   ]
  },
  {
   "cell_type": "markdown",
   "id": "c9bbd9ea",
   "metadata": {},
   "source": [
    "## ** Create a function that counts the number of times the word \"dog\" occurs in a string. Again ignore edge cases. **"
   ]
  },
  {
   "cell_type": "code",
   "execution_count": 158,
   "id": "fd677304",
   "metadata": {},
   "outputs": [],
   "source": [
    "def countDog(s1):\n",
    "    n1=s1.split()\n",
    "    for i in n1:\n",
    "        return n1.count('dog')\n",
    "        \n",
    "            "
   ]
  },
  {
   "cell_type": "code",
   "execution_count": 159,
   "id": "13b3965f",
   "metadata": {},
   "outputs": [
    {
     "data": {
      "text/plain": [
       "2"
      ]
     },
     "execution_count": 159,
     "metadata": {},
     "output_type": "execute_result"
    }
   ],
   "source": [
    "countDog('This dog runs faster than the other dog dude!')"
   ]
  },
  {
   "cell_type": "code",
   "execution_count": 275,
   "id": "9c045a60",
   "metadata": {},
   "outputs": [],
   "source": [
    "def countDog1(s1):\n",
    "    count=0\n",
    "    n1=s1.split()\n",
    "    for i in n1:\n",
    "        if i == 'dog':\n",
    "            count += 1\n",
    "        else:\n",
    "            count=count\n",
    "    return count"
   ]
  },
  {
   "cell_type": "code",
   "execution_count": 276,
   "id": "078dec92",
   "metadata": {},
   "outputs": [
    {
     "data": {
      "text/plain": [
       "2"
      ]
     },
     "execution_count": 276,
     "metadata": {},
     "output_type": "execute_result"
    }
   ],
   "source": [
    "countDog1('This dog runs faster than the other dog dude!')"
   ]
  },
  {
   "cell_type": "markdown",
   "id": "78d97709",
   "metadata": {},
   "source": [
    "## ** Use lambda expressions and the filter() function to filter out words from a list that don't start with the letter 's'. For example:**\n",
    "\n",
    "    seq = ['soup','dog','salad','cat','great']\n",
    "\n",
    "**should be filtered down to:**\n",
    "\n",
    "    ['dog','cat','great']"
   ]
  },
  {
   "cell_type": "code",
   "execution_count": 162,
   "id": "fad16474",
   "metadata": {},
   "outputs": [],
   "source": [
    "seq = ['soup','dog','salad','cat','great']"
   ]
  },
  {
   "cell_type": "code",
   "execution_count": 166,
   "id": "5fc62c9d",
   "metadata": {},
   "outputs": [
    {
     "data": {
      "text/plain": [
       "['dog', 'cat', 'great']"
      ]
     },
     "execution_count": 166,
     "metadata": {},
     "output_type": "execute_result"
    }
   ],
   "source": [
    "list(filter(lambda v:v[0]!='s',seq))"
   ]
  },
  {
   "cell_type": "markdown",
   "id": "18e300ef",
   "metadata": {},
   "source": [
    "## Final Problem \n",
    "*You are driving a little too fast, and a police officer stops you. Write a function to return one of 3 possible results: \"No ticket\", \"Small ticket\", or \"Big Ticket\". If your speed is 60 or less, the result is \"No Ticket\". If speed is between 61 and 80 inclusive, the result is \"Small Ticket\". If speed is 81 or more, the result is \"Big Ticket\". Unless it is your birthday (encoded as a boolean value in the parameters of the function) -- on your birthday, your speed can be 5 higher in all cases. *"
   ]
  },
  {
   "cell_type": "code",
   "execution_count": 280,
   "id": "ee24ecb9",
   "metadata": {},
   "outputs": [],
   "source": [
    "def caught_speeding(speed, is_birthday):\n",
    "        while is_birthday==False:\n",
    "            if speed <=60: \n",
    "                return 'No ticket'\n",
    "            elif 61<speed<=80:\n",
    "                return 'Small Ticket'\n",
    "            elif speed>=80:\n",
    "                return 'Big Ticket'\n",
    "            \n",
    "        while is_birthday==True:\n",
    "            if speed<=65: \n",
    "                return 'No ticket'\n",
    "            elif 66<speed<=85:\n",
    "                return 'Small Ticket'\n",
    "            elif speed>=85:\n",
    "                return 'Big Ticket'"
   ]
  },
  {
   "cell_type": "code",
   "execution_count": 281,
   "id": "916a1dbd",
   "metadata": {},
   "outputs": [
    {
     "data": {
      "text/plain": [
       "'Small Ticket'"
      ]
     },
     "execution_count": 281,
     "metadata": {},
     "output_type": "execute_result"
    }
   ],
   "source": [
    "caught_speeding(81,True)"
   ]
  },
  {
   "cell_type": "code",
   "execution_count": 282,
   "id": "8afd44a1",
   "metadata": {},
   "outputs": [
    {
     "data": {
      "text/plain": [
       "'Big Ticket'"
      ]
     },
     "execution_count": 282,
     "metadata": {},
     "output_type": "execute_result"
    }
   ],
   "source": [
    "caught_speeding(81,False)"
   ]
  },
  {
   "cell_type": "markdown",
   "id": "37517bb7",
   "metadata": {},
   "source": [
    "## Question\n",
    "Given a string print number num by extracting all the\n",
    "digits from the string as in string\n",
    "Print negative number if the first character in \n",
    "string is '-'\n",
    "eg.\n",
    "-123abcd should return -123,abcd456-->456,fdhfh78dsd89--->7889,-56dssd78-->-5678"
   ]
  },
  {
   "cell_type": "code",
   "execution_count": 399,
   "id": "f3d2f482",
   "metadata": {},
   "outputs": [
    {
     "name": "stdout",
     "output_type": "stream",
     "text": [
      "Enter a string: -123abc\n",
      "-123\n"
     ]
    }
   ],
   "source": [
    "test_str = input(\"Enter a string: \")\n",
    "text=\"\"\n",
    "numbers=\"\"\n",
    "digits=\"-0123456789\"\n",
    "res=[]\n",
    "for i in test_str:\n",
    "    if(i in digits):\n",
    "        numbers+=i\n",
    "    else:\n",
    "        text+=i\n",
    "res.append(text)\n",
    "res.append(numbers)\n",
    "print(res[1])"
   ]
  },
  {
   "cell_type": "markdown",
   "id": "665946f8",
   "metadata": {},
   "source": [
    "## Q2\n",
    "WAP to check whether a number is palindrome or not on following conditions.\n",
    "1. take input number\n",
    "2. add number and its reverse\n",
    "3. check that number is palindrome or not,if not then sum and its reverse"
   ]
  },
  {
   "cell_type": "code",
   "execution_count": 250,
   "id": "cef4c38f",
   "metadata": {},
   "outputs": [],
   "source": [
    "a='1234'"
   ]
  },
  {
   "cell_type": "code",
   "execution_count": 254,
   "id": "5c891b4c",
   "metadata": {},
   "outputs": [],
   "source": [
    "def isPalindrome(a):\n",
    "    if a==a[::-1]:\n",
    "        print('Number is palindrome')\n",
    "    else:\n",
    "        print('Number is not palindrome')"
   ]
  },
  {
   "cell_type": "code",
   "execution_count": 256,
   "id": "4667f791",
   "metadata": {},
   "outputs": [
    {
     "name": "stdout",
     "output_type": "stream",
     "text": [
      "Number is palindrome\n"
     ]
    }
   ],
   "source": [
    "isPalindrome('121')"
   ]
  },
  {
   "cell_type": "code",
   "execution_count": 263,
   "id": "226b99ef",
   "metadata": {},
   "outputs": [
    {
     "name": "stdout",
     "output_type": "stream",
     "text": [
      "Enter a number:121\n",
      "The number is palindrome!\n"
     ]
    }
   ],
   "source": [
    "num=int(input(\"Enter a number:\"))\n",
    "temp=num\n",
    "rev=0\n",
    "while(num>0):\n",
    "    dig=num%10\n",
    "    rev=rev*10+dig\n",
    "    num=num//10\n",
    "if(temp==rev):\n",
    "    print(\"The number is palindrome!\")\n",
    "else:\n",
    "    print(\"Not a palindrome!\")"
   ]
  },
  {
   "cell_type": "markdown",
   "id": "7f29230e",
   "metadata": {},
   "source": [
    "## Write a python function to find and display \n",
    "the five digit number in which the first digit is two more than \n",
    "the second,the second digit is two more than the third,\n",
    "the fourth digit is two less than the third, and the \n",
    "last digit is two more than\n",
    "the fourth.The sum of the third,fourth and fifth digits\n",
    "equals the first.The sum of all the digits is 19"
   ]
  },
  {
   "cell_type": "code",
   "execution_count": 433,
   "id": "38e85981",
   "metadata": {},
   "outputs": [
    {
     "name": "stdout",
     "output_type": "stream",
     "text": [
      "75313\n"
     ]
    }
   ],
   "source": [
    "def find_five_digit():\n",
    "    for i in range(9,0,-1):\n",
    "        f=i\n",
    "        s= i-2\n",
    "        t=i-4\n",
    "        fo=i-6\n",
    "        fi=i-4\n",
    "        \n",
    "        if t+fo+fi==f:\n",
    "            if (f+s+t+fo+fi)==19:\n",
    "                return(int(str(f)+str(s)+str(t)+str(fo)+str(fi)))\n",
    "\n",
    "print(find_five_digit())"
   ]
  }
 ],
 "metadata": {
  "kernelspec": {
   "display_name": "Python 3 (ipykernel)",
   "language": "python",
   "name": "python3"
  },
  "language_info": {
   "codemirror_mode": {
    "name": "ipython",
    "version": 3
   },
   "file_extension": ".py",
   "mimetype": "text/x-python",
   "name": "python",
   "nbconvert_exporter": "python",
   "pygments_lexer": "ipython3",
   "version": "3.9.13"
  }
 },
 "nbformat": 4,
 "nbformat_minor": 5
}
